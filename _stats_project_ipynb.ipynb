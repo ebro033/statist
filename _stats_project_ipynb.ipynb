{
  "nbformat": 4,
  "nbformat_minor": 0,
  "metadata": {
    "colab": {
      "provenance": []
    },
    "kernelspec": {
      "name": "python3",
      "display_name": "Python 3"
    },
    "language_info": {
      "name": "python"
    }
  },
  "cells": [
    {
      "cell_type": "code",
      "source": [
        "from google.colab import drive\n",
        "drive.mount('/content/drive')"
      ],
      "metadata": {
        "id": "eiMgiWPw8eC7"
      },
      "execution_count": null,
      "outputs": []
    },
    {
      "cell_type": "markdown",
      "source": [
        "Задание 1.\n",
        "\n",
        "Менеджер логистической компании решил провести АБ-тест, выбрав в качестве\n",
        "метрики время доставки курьерами посылок. Для контрольной группы курьеров\n",
        "оставили предыдущий интерфейс навигации в приложении, а для тестовой\n",
        "группы внедрили новую опцию, позволяющую комбинировать несколько видов\n",
        "транспорта.\n",
        "Полученные результаты времени доставки в минутах для тестовой и\n",
        "контрольной групп представлены в csv-файлах times_couriers_control.csv и\n",
        "times_couriers_test.csv.\n",
        "Проверьте гипотезу менеджера о том, что внедрённая опция приложения\n",
        "уменьшила время доставки."
      ],
      "metadata": {
        "id": "MJNGfFfO6MPE"
      }
    },
    {
      "cell_type": "markdown",
      "source": [
        "Нулевая гипотеза (H0) - внедрение новой опции не влияет на время доставки, а альтернативная гипотеза (H1) - внедрение новой опции сокращает время доставки. Уровень статистической значимости (alpha) берем 0.01."
      ],
      "metadata": {
        "id": "Eil8HI2Y_knL"
      }
    },
    {
      "cell_type": "code",
      "source": [
        "#Загрузим данные из файлов:\n",
        "\n",
        "from scipy import stats as st\n",
        "\n",
        "import pandas as pd\n",
        "\n",
        "# Загрузка данных\n",
        "control_df = pd.read_csv('/content/times_couriers_control.csv')\n",
        "test_df = pd.read_csv('/content/times_couriers_test.csv')\n",
        "# control_df = pd.read_csv('/content/drive/MyDrive/Colab_Notebooks/DA/times_couriers_control.csv')\n",
        "# test_df = pd.read_csv('/content/drive/MyDrive/Colab_Notebooks/DA/times_couriers_test.csv')\n",
        "\n",
        "# Вычисляем средние продолжительности доставки для контрольной и тестовой групп\n",
        "mean_control = control_df['time'].mean()\n",
        "mean_test = test_df['time'].mean()\n",
        "\n",
        "# Проведем t-тест для независимых выборок\n",
        "results = st.ttest_ind(test_df['time'], control_df['time'], alternative = \"less\")\n",
        "\n",
        "# Выведем результаты\n",
        "print(\"Среднее время доставки в контрольной группе:\", mean_control)\n",
        "print(\"Среднее время доставки в тестовой группе:\", mean_test)\n",
        "print(\"t-статистика:\", results.statistic)\n",
        "print(\"p-значение:\", results.pvalue)\n",
        "\n",
        "# Определим, была ли разница статистически значимой\n",
        "alpha = 0.01\n",
        "if results.pvalue < alpha:\n",
        "    print(\"Отвергаем нулевую гипотезу\")\n",
        "else:\n",
        "    print(\"Не получилось отвергнуть нулевую гипотезу\")"
      ],
      "metadata": {
        "colab": {
          "base_uri": "https://localhost:8080/"
        },
        "id": "duyR9oub6bTH",
        "outputId": "fa7755e8-68e5-4a4a-ac32-11cd1ebb8b6a"
      },
      "execution_count": null,
      "outputs": [
        {
          "output_type": "stream",
          "name": "stdout",
          "text": [
            "Среднее время доставки в контрольной группе: 14.220762711864404\n",
            "Среднее время доставки в тестовой группе: 15.39050847457627\n",
            "t-статистика: 3.1363225525939744\n",
            "p-значение: 0.9991180560045553\n",
            "Не получилось отвергнуть нулевую гипотезу\n"
          ]
        }
      ]
    },
    {
      "cell_type": "markdown",
      "source": [
        "Не получилось отвергнуть нулевую гипотезу, т.к. среднее время доставки в тестовой группе не уменьшилось, а наоборот увеличилось. Сформулируем гипотезы: нулевая гипотеза (H0) - внедрение новой опции не влияет на время доставки, а альтернативная гипотеза (H1) - внедрение новой опции увеличивает время доставки. Уровень статистической значимости (alpha) берем 0.01."
      ],
      "metadata": {
        "id": "9ebk4PuADUId"
      }
    },
    {
      "cell_type": "code",
      "source": [
        "# Проведем t-тест для независимых выборок\n",
        "results = st.ttest_ind(test_df['time'], control_df['time'], alternative = \"greater\")\n",
        "\n",
        "# Выведем результаты\n",
        "print(\"t-статистика:\", results.statistic)\n",
        "print(\"p-значение:\", results.pvalue)\n",
        "\n",
        "# Определим, была ли разница статистически значимой\n",
        "alpha = 0.01\n",
        "if results.pvalue < alpha:\n",
        "    print(\"Отвергаем нулевую гипотезу\")\n",
        "else:\n",
        "    print(\"Не получилось отвергнуть нулевую гипотезу\")"
      ],
      "metadata": {
        "colab": {
          "base_uri": "https://localhost:8080/"
        },
        "id": "ewnwchQrD81l",
        "outputId": "025e819a-17b6-4aa2-d9f8-f49e32809f67"
      },
      "execution_count": null,
      "outputs": [
        {
          "output_type": "stream",
          "name": "stdout",
          "text": [
            "t-статистика: 3.1363225525939744\n",
            "p-значение: 0.0008819439954447088\n",
            "Отвергаем нулевую гипотезу\n"
          ]
        }
      ]
    },
    {
      "cell_type": "markdown",
      "source": [
        "Задание 3.\n",
        "\n",
        "В файле couriers_education.csv представлена анонимизированная информация\n",
        "о курьерах компании: образование ( education ) и количество лет работы в\n",
        "компании ( experience ).\n",
        "\n",
        "Переменная education принимает значения:\n",
        "\n",
        "NS — no school — нет аттестата об окончании школы\n",
        "\n",
        "MS — middle school — закончены 9 классов школы\n",
        "\n",
        "S — school — среднее образование: закончена средняя школа\n",
        "\n",
        "SSE — secondary special education — среднее специальное образование (ПТУ /\n",
        "колледж)\n",
        "\n",
        "HE — higher education — высшее образование.\n",
        "\n",
        "Переменная experience принимает значения:\n",
        "\n",
        "0-1 — до одного года работы в компании\n",
        "\n",
        "1-3 — от одного до трёх лет работы\n",
        "\n",
        "3-5 — от трёх до пяти лет работы\n",
        "\n",
        "5- — от пяти лет работы.\n",
        "\n",
        "Проверьте гипотезу о том, что стаж работы в компании зависит от уровня\n",
        "образования."
      ],
      "metadata": {
        "id": "Jd2bxgYhx7Vj"
      }
    },
    {
      "cell_type": "code",
      "source": [
        "import pandas as pd\n",
        "from scipy.stats import chi2_contingency\n",
        "\n",
        "# Загружаем данные из CSV файла\n",
        "data = pd.read_csv('/content/couriers_education.csv')\n",
        "#data = pd.read_csv('/content/drive/MyDrive/Colab_Notebooks/DA/couriers_education.csv')\n",
        "\n",
        "# Создаем кросс-таблицу для уровня образования и стажа работы\n",
        "cross_table = pd.crosstab(data['education'], data['experience'])\n",
        "\n",
        "# Выполняем тест хи-квадрат\n",
        "chi2, p, _, _ = chi2_contingency(cross_table)\n",
        "\n",
        "# Выводим результаты теста\n",
        "print(f\"Хи-квадрат статистика: {chi2}\")\n",
        "print(f\"p-значение: {p}\")\n",
        "\n",
        "# Оцениваем статистическую значимость\n",
        "alpha = 0.05  # Уровень статистической значимости\n",
        "if p < alpha:\n",
        "    print(\"Отвергаем гипотезу о независимости уровня образования и стажа работы.\")\n",
        "else:\n",
        "    print(\"Не отвергаем гипотезу о независимости уровня образования и стажа работы.\")"
      ],
      "metadata": {
        "colab": {
          "base_uri": "https://localhost:8080/"
        },
        "id": "yVcYw0EYwene",
        "outputId": "38a03687-e590-4836-b12c-66e5fed8370d"
      },
      "execution_count": null,
      "outputs": [
        {
          "output_type": "stream",
          "name": "stdout",
          "text": [
            "Хи-квадрат статистика: 22.507947679669225\n",
            "p-значение: 0.032205915366036585\n",
            "Отвергаем гипотезу о независимости уровня образования и стажа работы.\n"
          ]
        }
      ]
    },
    {
      "cell_type": "markdown",
      "source": [
        "Задание 2.\n",
        "\n",
        "В этой же компании с 1 мая часто заказывающим клиентам предоставили скидку, действующую на все заказы до конца календарного месяца, если в этом месяце клиент уже сделал четыре заказа (то есть начиная с пятого заказа). В файле clients_orders.csv представлена информация о количестве заказов, которые одни и те же клиенты сделали в апреле и мае. Проверьте гипотезу о том, что клиенты стали делать больше заказов после введения скидки. Подсказка: это зависимая (парная) выборка.\n"
      ],
      "metadata": {
        "id": "nvMJRV5KIbjz"
      }
    },
    {
      "cell_type": "code",
      "source": [
        "#загрузка csv файла\n",
        "import pandas as pd\n",
        "data = pd.read_csv('/content/drive/MyDrive/csv/clients_orders.csv')"
      ],
      "metadata": {
        "id": "OWqKMilXISMY"
      },
      "execution_count": null,
      "outputs": []
    },
    {
      "cell_type": "code",
      "source": [
        "print(data.columns)"
      ],
      "metadata": {
        "colab": {
          "base_uri": "https://localhost:8080/"
        },
        "id": "XWKstn0aISXB",
        "outputId": "8b7017f4-5aed-4118-c3b7-6e7e444d5a97"
      },
      "execution_count": null,
      "outputs": [
        {
          "output_type": "stream",
          "name": "stdout",
          "text": [
            "Index(['Unnamed: 0', 'orders_april', 'orders_may'], dtype='object')\n"
          ]
        }
      ]
    },
    {
      "cell_type": "code",
      "source": [
        "import pandas as pd\n",
        "from scipy.stats import ttest_rel\n",
        "\n",
        "#Проведение t-теста для парных выборок\n",
        "t_stat, p_value = ttest_rel(data['orders_april'], data['orders_may'])\n",
        "\n",
        "#Вывод результата\n",
        "print(f\"t-statistic: {t_stat:.2f}\")\n",
        "print(f\"p-value: {p_value:.5f}\")\n",
        "\n",
        "# Интерпретация результатов\n",
        "if p_value < 0.05:\n",
        "    if t_stat < 0:\n",
        "        print(\"После введения скидки клиенты стали делать больше заказов.\")\n",
        "    else:\n",
        "        print(\"После введения скидки клиенты стали делать меньше заказов или количество заказов не изменилось.\")"
      ],
      "metadata": {
        "id": "3GGkOCkzaOxP",
        "colab": {
          "base_uri": "https://localhost:8080/"
        },
        "outputId": "2387eab4-443a-4825-f521-f6c51be089c7"
      },
      "execution_count": null,
      "outputs": [
        {
          "output_type": "stream",
          "name": "stdout",
          "text": [
            "t-statistic: -2.62\n",
            "p-value: 0.01077\n",
            "После введения скидки клиенты стали делать больше заказов.\n"
          ]
        }
      ]
    },
    {
      "cell_type": "code",
      "source": [
        "from google.colab import drive\n",
        "drive.mount('/content/drive')"
      ],
      "metadata": {
        "id": "YLj0kj06ISkR",
        "colab": {
          "base_uri": "https://localhost:8080/"
        },
        "outputId": "3dcae80f-85f2-4587-d5e1-6766cb8ea459"
      },
      "execution_count": null,
      "outputs": [
        {
          "output_type": "stream",
          "name": "stdout",
          "text": [
            "Drive already mounted at /content/drive; to attempt to forcibly remount, call drive.mount(\"/content/drive\", force_remount=True).\n"
          ]
        }
      ]
    },
    {
      "cell_type": "code",
      "source": [],
      "metadata": {
        "id": "NCsQNFlBRi05"
      },
      "execution_count": null,
      "outputs": []
    }
  ]
}