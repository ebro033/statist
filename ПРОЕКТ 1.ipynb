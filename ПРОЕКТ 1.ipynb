{
  "nbformat": 4,
  "nbformat_minor": 0,
  "metadata": {
    "colab": {
      "provenance": []
    },
    "kernelspec": {
      "name": "python3",
      "display_name": "Python 3"
    },
    "language_info": {
      "name": "python"
    }
  },
  "cells": [
    {
      "cell_type": "markdown",
      "source": [
        "#  №1   Известно, что мальчики рождаются с вероятностью 0.515."
      ],
      "metadata": {
        "id": "uSRFUmfIFC0O"
      }
    },
    {
      "cell_type": "markdown",
      "source": [
        "# a)"
      ],
      "metadata": {
        "id": "OFD-Rdc1FG-p"
      }
    },
    {
      "cell_type": "markdown",
      "source": [
        "#Постройте график распределения вероятностей для случайной\n",
        "#величины X — количества рождённых девочек для семьи c 9 детьми.\n",
        "#Все дети рождаются независимо друг от друга."
      ],
      "metadata": {
        "id": "SvYunOcDFP9T"
      }
    },
    {
      "cell_type": "code",
      "source": [
        "#Распределение Бернулли\n",
        "\n",
        "import matplotlib.pyplot as plt\n",
        "import scipy.stats as stats\n",
        "\n",
        "# вероятность рождения мальчика\n",
        "p_boy = 0.515\n",
        "# вероятность рождения девочки\n",
        "p_girl = 1 - p_boy\n",
        "\n",
        "# Кол-во детей\n",
        "n_children = 9\n",
        "\n",
        "# Создание биномиального распределения\n",
        "x_values = list(range(n_children + 1))\n",
        "probabilities = [stats.binom.pmf(k, n_children, p_girl) for k in x_values]\n",
        "\n",
        "#График\n",
        "plt.bar(x_values, probabilities, color='skyblue')\n",
        "plt.xlabel('Кол-во  девочек')\n",
        "plt.ylabel('Вероятность')\n",
        "plt.title('Распределение вероятностей количества девочек в семье с 9 детьми')\n",
        "plt.show()"
      ],
      "metadata": {
        "colab": {
          "base_uri": "https://localhost:8080/",
          "height": 472
        },
        "id": "eHm-5v9AFMTT",
        "outputId": "0c27ac5d-3991-4867-af17-1e08fd84ca41"
      },
      "execution_count": null,
      "outputs": [
        {
          "output_type": "display_data",
          "data": {
            "text/plain": [
              "<Figure size 640x480 with 1 Axes>"
            ],
            "image/png": "[encoded data removed]"
          },
          "metadata": {}
        }
      ]
    },
    {
      "cell_type": "markdown",
      "source": [
        "# b)"
      ],
      "metadata": {
        "id": "MqSSg7HhGjQn"
      }
    },
    {
      "cell_type": "markdown",
      "source": [
        "# Используя полученное распределение, найдите с какой\n",
        "# вероятностью в семье с 9 детьми родится хотя бы 4 мальчика."
      ],
      "metadata": {
        "id": "9zs9bLFvGihL"
      }
    },
    {
      "cell_type": "code",
      "source": [
        "# Биномиальное распределение\n",
        "\n",
        "import scipy.stats as stats\n",
        "\n",
        "#вероятность рождения мальчика\n",
        "p_boy = 0.515\n",
        "\n",
        "#Кол-во детей\n",
        "n_children = 9\n",
        "\n",
        "# Вероятность того, что родится хотя бы 4 мальчика\n",
        "\n",
        "prob_at_least_4_boys = 1 - stats.binom.cdf(3, n_children, p_boy)\n",
        "\n",
        "prob_at_least_4_boys"
      ],
      "metadata": {
        "colab": {
          "base_uri": "https://localhost:8080/"
        },
        "id": "_nSWkTjYGiI3",
        "outputId": "dc9d9755-3a3f-4f65-95a3-b9553f7fc66f"
      },
      "execution_count": null,
      "outputs": [
        {
          "output_type": "execute_result",
          "data": {
            "text/plain": [
              "0.774722539054326"
            ]
          },
          "metadata": {},
          "execution_count": 6
        }
      ]
    },
    {
      "cell_type": "code",
      "execution_count": null,
      "metadata": {
        "id": "cqGYHXYnEQhR"
      },
      "outputs": [],
      "source": [
        "#   77.47%"
      ]
    },
    {
      "cell_type": "markdown",
      "source": [
        " # c)"
      ],
      "metadata": {
        "id": "dNlPi-tUI7RK"
      }
    },
    {
      "cell_type": "markdown",
      "source": [
        "#Рассчитайте мат.ожидание и стандартное отклонение для X и сделайте\n",
        "#вывод по правилу трёх сигм в каком промежутке будет лежать число\n",
        "#рождённых девочек для подавляющего большинства семей c 9 детьми."
      ],
      "metadata": {
        "id": "ZqQHETzPI7Fb"
      }
    },
    {
      "cell_type": "code",
      "source": [
        "# Биноминальное распределение\n",
        "# Правило трех сигм\n",
        "\n",
        "# Вероятность рождения девочки\n",
        "p_girl = 1 - p_boy\n",
        "\n",
        "#математическое ожидание (среднее)\n",
        "mean_girls = n_children * p_girl\n",
        "\n",
        "#стандартное отклонение\n",
        "std_dev_girls = (n_children * p_girl * (1 - p_girl)) ** 0.5\n",
        "\n",
        "range_low = mean_girls - 3 * std_dev_girls\n",
        "range_high = mean_girls + 3 * std_dev_girls\n",
        "\n",
        "mean_girls, std_dev_girls, range_low, range_high"
      ],
      "metadata": {
        "colab": {
          "base_uri": "https://localhost:8080/"
        },
        "id": "GH13pSMjJFS5",
        "outputId": "f0bc3f78-c7cb-45c4-c83d-f9ead2d9e493"
      },
      "execution_count": null,
      "outputs": [
        {
          "output_type": "execute_result",
          "data": {
            "text/plain": [
              "(4.365, 1.499324848056618, -0.1329745441698531, 8.862974544169854)"
            ]
          },
          "metadata": {},
          "execution_count": 10
        }
      ]
    },
    {
      "cell_type": "code",
      "source": [
        "import numpy as np\n",
        "\n",
        "#Генерация значений x\n",
        "x = np.linspace(mean_girls - 3 * std_dev_girls, mean_girls + 3 * std_dev_girls, 1000)\n",
        "#Нормальное распределение с центром в среднем значении и стандартным отклонением\n",
        "normal_distribution = stats.norm.pdf(x, mean_girls, std_dev_girls)\n",
        "\n",
        "#Визуализация\n",
        "plt.plot(x, normal_distribution, label='Normal Distribution')\n",
        "plt.axvline(x=mean_girls, color='red', linestyle='--', label='Mean')\n",
        "plt.axvline(x=range_low, color='green', linestyle='--', label='3 Std Dev Below Mean')\n",
        "plt.axvline(x=range_high, color='green', linestyle='--', label='3 Std Dev Above Mean')\n",
        "plt.title('Normal Approximation for the Distribution of Girls Born in a Family of 9 Children')\n",
        "plt.xlabel('Number of Girls')\n",
        "plt.ylabel('Probability Density')\n",
        "plt.legend()\n",
        "plt.show()"
      ],
      "metadata": {
        "colab": {
          "base_uri": "https://localhost:8080/",
          "height": 472
        },
        "id": "qWoVlDNGKS39",
        "outputId": "25c6df4b-cfd1-4355-92ff-c5378e2b2d66"
      },
      "execution_count": null,
      "outputs": [
        {
          "output_type": "display_data",
          "data": {
            "text/plain": [
              "<Figure size 640x480 with 1 Axes>"
            ],
            "image/png": "[encoded data removed]"
          },
          "metadata": {}
        }
      ]
    },
    {
      "cell_type": "markdown",
      "source": [
        "# d)"
      ],
      "metadata": {
        "id": "CRL3rS5RKk5q"
      }
    },
    {
      "cell_type": "markdown",
      "source": [
        "#Чему будет равно значение (кумулятивной) функции распределения для\n",
        "#этого распределения при X = 6.1, то есть F(6.1)?"
      ],
      "metadata": {
        "id": "bLzdq5RZKo79"
      }
    },
    {
      "cell_type": "code",
      "source": [
        "# Биноминальное распределение\n",
        "\n",
        "F_6_1 = stats.binom.cdf(6.1, n_children, p_girl)\n",
        "F_6_1"
      ],
      "metadata": {
        "colab": {
          "base_uri": "https://localhost:8080/"
        },
        "id": "uCBFolRbJFQ_",
        "outputId": "5c6f323f-13b5-4ac7-d76c-6040c03b3875"
      },
      "execution_count": null,
      "outputs": [
        {
          "output_type": "execute_result",
          "data": {
            "text/plain": [
              "0.9240540312467562"
            ]
          },
          "metadata": {},
          "execution_count": 14
        }
      ]
    },
    {
      "cell_type": "code",
      "source": [
        "# 92.4%"
      ],
      "metadata": {
        "id": "ZsMxaKkDJFOc"
      },
      "execution_count": null,
      "outputs": []
    },
    {
      "cell_type": "markdown",
      "source": [
        "# №2   Резиденты жилых комплексов принимают предложение установить новую\n",
        "#систему шумоподавления с вероятностью 7%.\n",
        "#147 жильцам одного из комплексов отправили предложение установить\n",
        "#систему. С какой вероятностью предложение примут:"
      ],
      "metadata": {
        "id": "8DOdagmHL3wA"
      }
    },
    {
      "cell_type": "markdown",
      "source": [
        "#a)"
      ],
      "metadata": {
        "id": "LEJANAOBL3se"
      }
    },
    {
      "cell_type": "markdown",
      "source": [],
      "metadata": {
        "id": "YbfQ59CQL3oj"
      }
    },
    {
      "cell_type": "code",
      "source": [
        "# Биноминальное распределение\n",
        "\n",
        "# Параметры биномиального распределения\n",
        "n_residents = 147  # Общее количество жильцов\n",
        "p_accept = 0.07    # Вероятность принятия предложения\n",
        "\n",
        "# Расчет вероятности, что ровно 12 жильцов примут предложение\n",
        "prob_12_accept = stats.binom.pmf(12, n_residents, p_accept)\n",
        "prob_12_accept"
      ],
      "metadata": {
        "colab": {
          "base_uri": "https://localhost:8080/"
        },
        "id": "lCPs5Vr5FAt9",
        "outputId": "9760a465-bf5d-4e00-b0f2-167d9b34c75c"
      },
      "execution_count": null,
      "outputs": [
        {
          "output_type": "execute_result",
          "data": {
            "text/plain": [
              "0.10317230850577083"
            ]
          },
          "metadata": {},
          "execution_count": 15
        }
      ]
    },
    {
      "cell_type": "code",
      "source": [
        "10.32%"
      ],
      "metadata": {
        "id": "MS7qGTHXMzhI"
      },
      "execution_count": null,
      "outputs": []
    },
    {
      "cell_type": "markdown",
      "source": [
        "# b)"
      ],
      "metadata": {
        "id": "HWAXvXSQM49n"
      }
    },
    {
      "cell_type": "code",
      "source": [
        "# Нормальное распределение\n",
        "\n",
        "n_residents = 147  #Общее количество жильцов\n",
        "p_accept = 0.07    #Вероятность принятия предложения\n",
        "\n",
        "# Математическое ожидание и стандартное отклонение для биномиального распределения\n",
        "mean = n_residents * p_accept  # n * p\n",
        "std_dev = (n_residents * p_accept * (1 - p_accept)) ** 0.5  # sqrt(n * p * (1 - p))\n",
        "\n",
        "# Пересчет вероятности\n",
        "prob_10_to_12_normal_only = stats.norm.cdf(12.5, mean, std_dev) - stats.norm.cdf(9.5, mean, std_dev)\n",
        "3prob_10_to_12_normal_only"
      ],
      "metadata": {
        "colab": {
          "base_uri": "https://localhost:8080/"
        },
        "id": "OU163p-XM7Xw",
        "outputId": "e487f0ee-77d3-4397-a819-ffa5df2f67bf"
      },
      "execution_count": null,
      "outputs": [
        {
          "output_type": "execute_result",
          "data": {
            "text/plain": [
              "0.3632940700219458"
            ]
          },
          "metadata": {},
          "execution_count": 17
        }
      ]
    },
    {
      "cell_type": "code",
      "source": [
        "# 36.32%"
      ],
      "metadata": {
        "id": "RPId9dQ5OL_-"
      },
      "execution_count": null,
      "outputs": []
    },
    {
      "cell_type": "markdown",
      "source": [
        "# c)"
      ],
      "metadata": {
        "id": "Ur1_znfHORvs"
      }
    },
    {
      "cell_type": "code",
      "source": [
        "#распределения Пуассона\n",
        "lambda_poisson = n_residents * p_accept\n",
        "\n",
        "\n",
        "prob_less_than_10_poisson = stats.poisson.cdf(9, lambda_poisson)\n",
        "prob_less_than_10_poisson"
      ],
      "metadata": {
        "colab": {
          "base_uri": "https://localhost:8080/"
        },
        "id": "cFaB83EFORfx",
        "outputId": "7b256049-6e79-426c-e7fe-43e49796ab84"
      },
      "execution_count": null,
      "outputs": [
        {
          "output_type": "execute_result",
          "data": {
            "text/plain": [
              "0.42221294207242627"
            ]
          },
          "metadata": {},
          "execution_count": 18
        }
      ]
    },
    {
      "cell_type": "code",
      "source": [
        "# 42.22%"
      ],
      "metadata": {
        "id": "XHf3uiwMPHlk"
      },
      "execution_count": null,
      "outputs": []
    },
    {
      "cell_type": "markdown",
      "source": [
        "# №3"
      ],
      "metadata": {
        "id": "ghNbOv34PM0A"
      }
    },
    {
      "cell_type": "markdown",
      "source": [
        "# VIP-клиенты компании предъявляют пафосные претензии с обычной\n",
        "#интенсивностью 11 претензий в неделю. Найдите вероятность, что на\n",
        "#следующей неделе поступит:"
      ],
      "metadata": {
        "id": "lVRhzqTDPMXZ"
      }
    },
    {
      "cell_type": "markdown",
      "source": [
        "# a)"
      ],
      "metadata": {
        "id": "x4WAT_gxPMUm"
      }
    },
    {
      "cell_type": "code",
      "source": [
        "#распределения Пуассона\n",
        "\n",
        "from math import exp, factorial\n",
        "\n",
        "# Среднее количество претензий в неделю\n",
        "lambda_ = 11\n",
        "\n",
        "# Функция для расчета вероятности по формуле Пуассона\n",
        "def poisson_probability(k, lambda_):\n",
        "    return (lambda_ ** k * exp(-lambda_)) / factorial(k)\n",
        "\n",
        "# Расчет вероятности для каждого случая (от 0 до 4 претензий)\n",
        "probabilities = [poisson_probability(k, lambda_) for k in range(5)]\n",
        "\n",
        "# Суммирование вероятностей\n",
        "total_probability = sum(probabilities)\n",
        "total_probability"
      ],
      "metadata": {
        "id": "40CmroQ5PK44",
        "colab": {
          "base_uri": "https://localhost:8080/"
        },
        "outputId": "d73c7949-b9b5-4424-fc39-875c78faa22e"
      },
      "execution_count": null,
      "outputs": [
        {
          "output_type": "execute_result",
          "data": {
            "text/plain": [
              "0.015104600652178418"
            ]
          },
          "metadata": {},
          "execution_count": 1
        }
      ]
    },
    {
      "cell_type": "markdown",
      "source": [
        "Ответ: 15.10 %"
      ],
      "metadata": {
        "id": "GqL8IIJcC5XM"
      }
    },
    {
      "cell_type": "markdown",
      "source": [],
      "metadata": {
        "id": "mJUpAQ8qCLUr"
      }
    },
    {
      "cell_type": "markdown",
      "source": [
        "## b)"
      ],
      "metadata": {
        "id": "DGzSM6wvCLql"
      }
    },
    {
      "cell_type": "code",
      "source": [
        "# Расчет вероятности для каждого случая (от 0 до 12 претензий)\n",
        "probabilities_less_than_13 = [poisson_probability(k, lambda_) for k in range(13)]\n",
        "\n",
        "# Суммирование вероятностей\n",
        "total_probability_less_than_13 = sum(probabilities_less_than_13)\n",
        "\n",
        "# Вычитаем из 1 для получения вероятности 13 и более претензий\n",
        "probability_13_or_more = 1 - total_probability_less_than_13\n",
        "probability_13_or_more"
      ],
      "metadata": {
        "id": "e9abFFLYPK1t",
        "colab": {
          "base_uri": "https://localhost:8080/"
        },
        "outputId": "e1754586-932a-40e0-d0dc-5ac4bb429c1b"
      },
      "execution_count": null,
      "outputs": [
        {
          "output_type": "execute_result",
          "data": {
            "text/plain": [
              "0.3113033485359312"
            ]
          },
          "metadata": {},
          "execution_count": 2
        }
      ]
    },
    {
      "cell_type": "markdown",
      "source": [
        "Ответ: 31.13 %"
      ],
      "metadata": {
        "id": "lpzFTkiqC_pV"
      }
    },
    {
      "cell_type": "markdown",
      "source": [],
      "metadata": {
        "id": "TiPKzwnhEXOJ"
      }
    },
    {
      "cell_type": "markdown",
      "source": [
        "## №4"
      ],
      "metadata": {
        "id": "VVkxT4LfDJZX"
      }
    },
    {
      "cell_type": "markdown",
      "source": [
        "# Веса контейнеров, которые отправляет компания “Вжух”, распределены\n",
        "#нормально:\n",
        "#W ∼ N(84 кг, 16 кг2).\n",
        "#Найдите с какой вероятностью вес случайно взятого контейнера окажется:"
      ],
      "metadata": {
        "id": "9XosL3wdDJTZ"
      }
    },
    {
      "cell_type": "markdown",
      "source": [
        "# а)"
      ],
      "metadata": {
        "id": "fQ3AHGvUDJMN"
      }
    },
    {
      "cell_type": "code",
      "source": [
        "from scipy.stats import norm\n",
        "\n",
        "mu = 84  # математическое ожидание\n",
        "sigma = 16**0.5  # стандартное отклонение\n",
        "\n",
        "# Интервал вокруг 85 кг\n",
        "lower_bound = 84.95\n",
        "upper_bound = 85.05\n",
        "\n",
        "probability = norm(mu, sigma).cdf(upper_bound) - norm(mu, sigma).cdf(lower_bound)\n",
        "probability\n",
        "\n",
        "#0.096%"
      ],
      "metadata": {
        "colab": {
          "base_uri": "https://localhost:8080/"
        },
        "id": "mxXq9_4tDkY9",
        "outputId": "51f36227-ae2d-47d1-b784-a08f8c533600"
      },
      "execution_count": null,
      "outputs": [
        {
          "output_type": "execute_result",
          "data": {
            "text/plain": [
              "0.00966646692175166"
            ]
          },
          "metadata": {},
          "execution_count": 4
        }
      ]
    },
    {
      "cell_type": "markdown",
      "source": [
        "# b)"
      ],
      "metadata": {
        "id": "VtEyYk_rFf2r"
      }
    },
    {
      "cell_type": "code",
      "source": [
        "from scipy.stats import norm\n",
        "\n",
        "mu = 84  # математическое ожидание\n",
        "sigma = 16**0.5  # стандартное отклонение\n",
        "lower_bound_new = 80\n",
        "upper_bound_new = 85\n",
        "\n",
        "# Рассчитываем вероятность того, что вес будет в этом новом интервале\n",
        "probability_new_interval = norm(mu, sigma).cdf(upper_bound_new) - norm(mu, sigma).cdf(lower_bound_new)\n",
        "probability_new_interval\n",
        "\n",
        "#44%"
      ],
      "metadata": {
        "colab": {
          "base_uri": "https://localhost:8080/"
        },
        "id": "mKiCdAycDkTo",
        "outputId": "00b6b5b4-3f88-459c-9bed-6eb95578e13f"
      },
      "execution_count": null,
      "outputs": [
        {
          "output_type": "execute_result",
          "data": {
            "text/plain": [
              "0.4400510717514666"
            ]
          },
          "metadata": {},
          "execution_count": 5
        }
      ]
    },
    {
      "cell_type": "markdown",
      "source": [
        "#c)"
      ],
      "metadata": {
        "id": "b9_SRHFhGD95"
      }
    },
    {
      "cell_type": "code",
      "source": [
        "from scipy.stats import norm\n",
        "\n",
        "mu = 84  # математическое ожидание\n",
        "sigma = 16**0.5  # стандартное отклонение\n",
        "\n",
        "probability_less_than_80 = norm(mu, sigma).cdf(80)\n",
        "probability_less_than_80\n",
        "\n",
        "#15.86%"
      ],
      "metadata": {
        "colab": {
          "base_uri": "https://localhost:8080/"
        },
        "id": "3Enkgl7xDkQz",
        "outputId": "3d66ce6a-2610-4840-e71d-6d3d991c4943"
      },
      "execution_count": null,
      "outputs": [
        {
          "output_type": "execute_result",
          "data": {
            "text/plain": [
              "0.15865525393145707"
            ]
          },
          "metadata": {},
          "execution_count": 6
        }
      ]
    },
    {
      "cell_type": "markdown",
      "source": [
        "#d)"
      ],
      "metadata": {
        "id": "PNgm8GV9GjJq"
      }
    },
    {
      "cell_type": "code",
      "source": [
        "\n",
        "from scipy.stats import norm\n",
        "\n",
        "mu = 84  # математическое ожидание\n",
        "sigma = 16**0.5  # стандартное отклонение\n",
        "probability_greater_than_90 = 1 - norm(mu, sigma).cdf(90)\n",
        "probability_greater_than_90\n",
        "\n",
        "#0.66%"
      ],
      "metadata": {
        "colab": {
          "base_uri": "https://localhost:8080/"
        },
        "id": "ozxkIhl9DkNC",
        "outputId": "7222e3df-6328-45c9-9af2-157b804be46d"
      },
      "execution_count": null,
      "outputs": [
        {
          "output_type": "execute_result",
          "data": {
            "text/plain": [
              "0.06680720126885809"
            ]
          },
          "metadata": {},
          "execution_count": 7
        }
      ]
    },
    {
      "cell_type": "markdown",
      "source": [
        "### №5"
      ],
      "metadata": {
        "id": "5rRgoUeuG5Uf"
      }
    },
    {
      "cell_type": "markdown",
      "source": [
        "#Комания “Вжух” решила отправлять 80% самых легких грузов одним\n",
        "#способом отправки, а 20% самых тяжелых — другим. Какой вес груза им\n",
        "#нужно взять как пороговый, чтобы рассортировать грузы между этими двумя\n",
        "#способами отправки?"
      ],
      "metadata": {
        "id": "cvFs7MdhHA1q"
      }
    },
    {
      "cell_type": "code",
      "source": [
        "\n",
        "percentile_80 = norm(mu, sigma).ppf(0.8)\n",
        "percentile_80"
      ],
      "metadata": {
        "colab": {
          "base_uri": "https://localhost:8080/"
        },
        "id": "bKnT5x3SHMBk",
        "outputId": "39c68827-5a12-4e49-ca99-5a5b7cc8965b"
      },
      "execution_count": null,
      "outputs": [
        {
          "output_type": "execute_result",
          "data": {
            "text/plain": [
              "87.36648493429166"
            ]
          },
          "metadata": {},
          "execution_count": 9
        }
      ]
    }
  ]
}